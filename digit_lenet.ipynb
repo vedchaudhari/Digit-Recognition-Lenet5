{
 "cells": [
  {
   "cell_type": "markdown",
   "metadata": {},
   "source": [
    "<h1>Load Dataset<h1>"
   ]
  },
  {
   "cell_type": "code",
   "execution_count": 2,
   "metadata": {},
   "outputs": [],
   "source": [
    "import matplotlib.pyplot as plt\n",
    "import tensorflow as tf\n",
    "import numpy as np\n",
    "\n",
    "mnist = tf.keras.datasets.mnist\n",
    "(x_train,y_train),(x_test,y_test) = mnist.load_data()  "
   ]
  },
  {
   "cell_type": "markdown",
   "metadata": {},
   "source": [
    "<h1>Preprocessing and Normalizaing</h1>"
   ]
  },
  {
   "cell_type": "code",
   "execution_count": 3,
   "metadata": {},
   "outputs": [],
   "source": [
    "rows,cols = 28,28\n",
    "\n",
    "#Reshaping of data into 4D array\n",
    "x_train = x_train.reshape(x_train.shape[0],rows,cols,1)\n",
    "x_test = x_test.reshape(x_test.shape[0],rows,cols,1)\n",
    "\n",
    "input_shape = (rows,cols,1)\n",
    "\n",
    "\n",
    "#Set type as float32 and normalize the values to [0,1]\n",
    "x_train = x_train.astype('float32')\n",
    "x_test = x_test.astype('float32')\n",
    "x_train = x_train / 255.0\n",
    "x_test = x_test / 255.0\n",
    "\n",
    "\n",
    "\n",
    "#Transform labels to one hot encoding\n",
    "y_train = tf.keras.utils.to_categorical(y_train,10)\n",
    "y_test = tf.keras.utils.to_categorical(y_test,10) "
   ]
  },
  {
   "cell_type": "markdown",
   "metadata": {},
   "source": [
    "<h1>Define LeNet-5  Model<h1>"
   ]
  },
  {
   "cell_type": "code",
   "execution_count": 4,
   "metadata": {},
   "outputs": [],
   "source": [
    "def build_lenet(input_shape):\n",
    "    #define Sequential Model\n",
    "    model = tf.keras.Sequential()\n",
    "\n",
    "    #C1 Convolution Layer\n",
    "    model.add(tf.keras.layers.Conv2D(filters=6,strides=(1,1),kernel_size=(5,5),activation='tanh',input_shape=input_shape))\n",
    "\n",
    "    #S2 SubSampling Layer\n",
    "    model.add(tf.keras.layers.AveragePooling2D(pool_size=(2,2),strides=(2,2)))\n",
    "\n",
    "    #C3 Convolution Layer\n",
    "    model.add(tf.keras.layers.Conv2D(filters=16,strides=(1,1),kernel_size=(5,5),activation='tanh'))\n",
    "\n",
    "    #S4 SubSampling Layer\n",
    "    model.add(tf.keras.layers.AveragePooling2D(pool_size=(2,2),strides=(2,2)))\n",
    "\n",
    "    #C5 Fully Connected Layer\n",
    "    model.add(tf.keras.layers.Dense(units=120,activation='tanh'))\n",
    "\n",
    "    #Flatten the output so that we can connect it with fully connected layers\n",
    "    model.add(tf.keras.layers.Flatten())\n",
    "\n",
    "    #C6 Fully Connected Layer\n",
    "    model.add(tf.keras.layers.Dense(units=84,activation='tanh'))\n",
    "\n",
    "    #Output Layer\n",
    "    model.add(tf.keras.layers.Dense(units=10,activation='softmax'))\n",
    "\n",
    "    #Compile the Model\n",
    "    model.compile(loss='categorical_crossentropy',optimizer=tf.keras.optimizers.legacy.SGD(learning_rate=0.1,momentum=0.0,decay=0.0),metrics=['accuracy'])\n",
    "\n",
    "    return model\n"
   ]
  },
  {
   "cell_type": "markdown",
   "metadata": {},
   "source": [
    "<h1>Model Evaluation and Visualization Process<h1>"
   ]
  },
  {
   "cell_type": "code",
   "execution_count": 5,
   "metadata": {},
   "outputs": [
    {
     "name": "stdout",
     "output_type": "stream",
     "text": [
      "Epoch 1/10\n",
      "469/469 [==============================] - 16s 30ms/step - loss: 0.4031 - accuracy: 0.8859\n",
      "Epoch 2/10\n",
      "469/469 [==============================] - 16s 34ms/step - loss: 0.1850 - accuracy: 0.9451\n",
      "Epoch 3/10\n",
      "469/469 [==============================] - 19s 40ms/step - loss: 0.1328 - accuracy: 0.9606\n",
      "Epoch 4/10\n",
      "469/469 [==============================] - 15s 33ms/step - loss: 0.1036 - accuracy: 0.9694\n",
      "Epoch 5/10\n",
      "469/469 [==============================] - 15s 32ms/step - loss: 0.0849 - accuracy: 0.9752\n",
      "Epoch 6/10\n",
      "469/469 [==============================] - 18s 38ms/step - loss: 0.0724 - accuracy: 0.9789\n",
      "Epoch 7/10\n",
      "469/469 [==============================] - 15s 32ms/step - loss: 0.0633 - accuracy: 0.9815\n",
      "Epoch 8/10\n",
      "469/469 [==============================] - 15s 31ms/step - loss: 0.0560 - accuracy: 0.9835\n",
      "Epoch 9/10\n",
      "469/469 [==============================] - 15s 32ms/step - loss: 0.0508 - accuracy: 0.9851\n",
      "Epoch 10/10\n",
      "469/469 [==============================] - 16s 35ms/step - loss: 0.0454 - accuracy: 0.9869\n",
      "313/313 [==============================] - 2s 6ms/step - loss: 0.0497 - accuracy: 0.9838\n",
      "Accuracy :  0.9837999939918518\n",
      "Training Data (60000, 28, 28) (60000, 10)\n",
      "Test Data (10000, 28, 28) (10000, 10)\n"
     ]
    }
   ],
   "source": [
    "lenet = build_lenet(input_shape)\n",
    "\n",
    "epochs = 10\n",
    "history = lenet.fit(x_train,y_train,epochs = epochs ,batch_size=128,verbose=1)\n",
    "\n",
    "#Check Accuracy of the Model \n",
    "loss,acc = lenet.evaluate(x_test,y_test)\n",
    "print('Accuracy : ',acc)\n",
    "\n",
    "x_train = x_train.reshape(x_train.shape[0],28,28)\n",
    "print('Training Data',x_train.shape,y_train.shape)\n",
    "\n",
    "x_test = x_test.reshape(x_test.shape[0],28,28)\n",
    "print('Test Data',x_test.shape,y_test.shape)\n",
    "\n"
   ]
  },
  {
   "cell_type": "code",
   "execution_count": 6,
   "metadata": {},
   "outputs": [
    {
     "name": "stdout",
     "output_type": "stream",
     "text": [
      "1/1 [==============================] - 0s 137ms/step\n",
      "4\n"
     ]
    },
    {
     "data": {
      "image/png": "[encoded data removed]",
      "text/plain": [
       "<Figure size 640x480 with 1 Axes>"
      ]
     },
     "metadata": {},
     "output_type": "display_data"
    }
   ],
   "source": [
    "#Plot the Image\n",
    "image_index = 5525\n",
    "plt.imshow(x_test[image_index].reshape(28,28),cmap='Greys')\n",
    "\n",
    "#make prediction\n",
    "pred = lenet.predict(x_test[image_index].reshape(1,rows,cols,1))\n",
    "print(pred.argmax())"
   ]
  }
 ],
 "metadata": {
  "kernelspec": {
   "display_name": "Python 3",
   "language": "python",
   "name": "python3"
  },
  "language_info": {
   "codemirror_mode": {
    "name": "ipython",
    "version": 3
   },
   "file_extension": ".py",
   "mimetype": "text/x-python",
   "name": "python",
   "nbconvert_exporter": "python",
   "pygments_lexer": "ipython3",
   "version": "3.8.10"
  }
 },
 "nbformat": 4,
 "nbformat_minor": 2
}
